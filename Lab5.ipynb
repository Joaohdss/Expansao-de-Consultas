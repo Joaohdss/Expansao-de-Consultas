{
  "nbformat": 4,
  "nbformat_minor": 0,
  "metadata": {
    "colab": {
      "name": "Lab5.ipynb",
      "version": "0.3.2",
      "provenance": [],
      "collapsed_sections": [],
      "toc_visible": true
    },
    "kernelspec": {
      "name": "python3",
      "display_name": "Python 3"
    }
  },
  "cells": [
    {
      "cell_type": "markdown",
      "metadata": {
        "id": "e27VCnPKU2IY",
        "colab_type": "text"
      },
      "source": [
        "#Parte 1 : Importando Bibliotecas"
      ]
    },
    {
      "cell_type": "code",
      "metadata": {
        "id": "bOViW0iQHf7L",
        "colab_type": "code",
        "outputId": "a2c5d803-8b41-427a-fec7-ff5ea6cc5e1b",
        "colab": {
          "base_uri": "https://localhost:8080/",
          "height": 153
        }
      },
      "source": [
        "import pandas as pd\n",
        "import numpy as np\n",
        "import matplotlib.pyplot as plt\n",
        "import csv\n",
        "\n",
        "import re\n",
        "import nltk\n",
        "nltk.download('punkt')\n",
        "nltk.download('stopwords')\n",
        "nltk.download('averaged_perceptron_tagger')\n",
        "from nltk.tokenize import word_tokenize\n",
        "from nltk import tokenize \n",
        "from nltk.stem import RSLPStemmer\n",
        "from nltk.stem.porter import *\n",
        "import heapq\n",
        "import heapq as hp\n",
        "import time\n",
        "%matplotlib inline"
      ],
      "execution_count": 16,
      "outputs": [
        {
          "output_type": "stream",
          "text": [
            "[nltk_data] Downloading package punkt to /root/nltk_data...\n",
            "[nltk_data]   Package punkt is already up-to-date!\n",
            "[nltk_data] Downloading package stopwords to /root/nltk_data...\n",
            "[nltk_data]   Package stopwords is already up-to-date!\n",
            "[nltk_data] Downloading package averaged_perceptron_tagger to\n",
            "[nltk_data]     /root/nltk_data...\n",
            "[nltk_data]   Package averaged_perceptron_tagger is already up-to-\n",
            "[nltk_data]       date!\n"
          ],
          "name": "stdout"
        }
      ]
    },
    {
      "cell_type": "markdown",
      "metadata": {
        "id": "Jt3jjwchU95_",
        "colab_type": "text"
      },
      "source": [
        "##Lendo arquivo results csv\n",
        "\n",
        "Eliminando caracteres com tamanho 2 ou menor e deixando todos em caixa baixa salvando na variavel \"texto\""
      ]
    },
    {
      "cell_type": "code",
      "metadata": {
        "id": "TUX4BCXrHlUn",
        "colab_type": "code",
        "colab": {
          "base_uri": "https://localhost:8080/",
          "height": 119
        },
        "outputId": "8fc69239-bea6-4b50-f9b2-e52c31f09d8b"
      },
      "source": [
        "arquivo = pd.read_csv('results.csv')\n",
        "texto = arquivo['text']\n",
        "\n",
        "def eliminar_carac(text):\n",
        "  return re.sub(r'(\\W+|\\d+|\\b\\w{0,2}\\b)', ' ', text.lower())\n",
        "texto = texto.apply(eliminar_carac)\n",
        "\n",
        "texto = texto.apply(tokenize.word_tokenize, language='portuguese')\n",
        "palavras = []\n",
        "\n",
        "\n",
        "texto.head()"
      ],
      "execution_count": 17,
      "outputs": [
        {
          "output_type": "execute_result",
          "data": {
            "text/plain": [
              "0    [juíza, federal, ivani, silva, luz, brasília, ...\n",
              "1    [menos, horas, depois, juíza, federal, ivani, ...\n",
              "2    [quando, determinou, que, março, uma, estratég...\n",
              "3    [quando, era, pequeno, luisa, gabriel, preocup...\n",
              "4    [desde, manhã, última, segunda, feira, sucesso...\n",
              "Name: text, dtype: object"
            ]
          },
          "metadata": {
            "tags": []
          },
          "execution_count": 17
        }
      ]
    },
    {
      "cell_type": "markdown",
      "metadata": {
        "id": "zLUs12hGVLvA",
        "colab_type": "text"
      },
      "source": [
        "##Eliminando as stopwords : Usando a biblioteca nltk\n",
        "###Algoritmo Build Index : Usada para uma indexação simples"
      ]
    },
    {
      "cell_type": "code",
      "metadata": {
        "id": "7e8-YzVeHqhL",
        "colab_type": "code",
        "colab": {
          "base_uri": "https://localhost:8080/",
          "height": 204
        },
        "outputId": "f780253b-6141-44bd-cf3a-72764c90376b"
      },
      "source": [
        "stopwords = nltk.corpus.stopwords.words('portuguese')\n",
        "def eliminar_stopwords(text):\n",
        "  palavras = []\n",
        "  for palavra in text:\n",
        "    if(palavra not in stopwords):\n",
        "      palavras.append(palavra)\n",
        "  return palavras \n",
        "def build_index(arquivo):\n",
        "  numero_da_lista = 0\n",
        "  dic_index = {}\n",
        "  \n",
        "  for documento in arquivo:\n",
        "    \n",
        "    numero_da_lista += 1\n",
        "    doc = eliminar_stopwords(documento)\n",
        "    \n",
        "    for palavra in doc:\n",
        "      ocorrencia = doc.count(palavra)\n",
        "      par = (numero_da_lista, ocorrencia)\n",
        "      if palavra not in dic_index:\n",
        "        dic_index[palavra] = {}\n",
        "      \n",
        "      if par not in dic_index[palavra]:\n",
        "        \n",
        "         dic_index[palavra][numero_da_lista] = ocorrencia\n",
        "  return dic_index\n",
        "                \n",
        "index = build_index(texto)\n",
        "tabela = {'palavra' : list(index.keys()),\n",
        "       'doc|ocorrencia' : list(index.values()) }\n",
        "df = pd.DataFrame(tabela)\n",
        "df.head()"
      ],
      "execution_count": 18,
      "outputs": [
        {
          "output_type": "execute_result",
          "data": {
            "text/html": [
              "<div>\n",
              "<style scoped>\n",
              "    .dataframe tbody tr th:only-of-type {\n",
              "        vertical-align: middle;\n",
              "    }\n",
              "\n",
              "    .dataframe tbody tr th {\n",
              "        vertical-align: top;\n",
              "    }\n",
              "\n",
              "    .dataframe thead th {\n",
              "        text-align: right;\n",
              "    }\n",
              "</style>\n",
              "<table border=\"1\" class=\"dataframe\">\n",
              "  <thead>\n",
              "    <tr style=\"text-align: right;\">\n",
              "      <th></th>\n",
              "      <th>palavra</th>\n",
              "      <th>doc|ocorrencia</th>\n",
              "    </tr>\n",
              "  </thead>\n",
              "  <tbody>\n",
              "    <tr>\n",
              "      <th>0</th>\n",
              "      <td>juíza</td>\n",
              "      <td>{1: 2, 2: 1}</td>\n",
              "    </tr>\n",
              "    <tr>\n",
              "      <th>1</th>\n",
              "      <td>federal</td>\n",
              "      <td>{1: 2, 2: 2, 3: 1, 6: 1, 7: 3, 15: 1, 24: 1, 3...</td>\n",
              "    </tr>\n",
              "    <tr>\n",
              "      <th>2</th>\n",
              "      <td>ivani</td>\n",
              "      <td>{1: 1, 2: 1}</td>\n",
              "    </tr>\n",
              "    <tr>\n",
              "      <th>3</th>\n",
              "      <td>silva</td>\n",
              "      <td>{1: 3, 2: 1, 6: 1, 14: 2, 26: 1, 73: 1, 76: 1,...</td>\n",
              "    </tr>\n",
              "    <tr>\n",
              "      <th>4</th>\n",
              "      <td>luz</td>\n",
              "      <td>{1: 3, 2: 1, 9: 1, 17: 1, 32: 2, 78: 1, 79: 1,...</td>\n",
              "    </tr>\n",
              "  </tbody>\n",
              "</table>\n",
              "</div>"
            ],
            "text/plain": [
              "   palavra                                     doc|ocorrencia\n",
              "0    juíza                                       {1: 2, 2: 1}\n",
              "1  federal  {1: 2, 2: 2, 3: 1, 6: 1, 7: 3, 15: 1, 24: 1, 3...\n",
              "2    ivani                                       {1: 1, 2: 1}\n",
              "3    silva  {1: 3, 2: 1, 6: 1, 14: 2, 26: 1, 73: 1, 76: 1,...\n",
              "4      luz  {1: 3, 2: 1, 9: 1, 17: 1, 32: 2, 78: 1, 79: 1,..."
            ]
          },
          "metadata": {
            "tags": []
          },
          "execution_count": 18
        }
      ]
    },
    {
      "cell_type": "markdown",
      "metadata": {
        "id": "cL_eHNlKVufG",
        "colab_type": "text"
      },
      "source": [
        "## Número de documentos que contém cada termo"
      ]
    },
    {
      "cell_type": "code",
      "metadata": {
        "id": "PwwYRMzRHwh7",
        "colab_type": "code",
        "colab": {}
      },
      "source": [
        "def qdt_dois_documentos(a, b):\n",
        "  docs_a = index[a].keys()\n",
        "  docs_b = index[b].keys()\n",
        "  count = 0\n",
        "  for doc in docs_a:\n",
        "    if doc in docs_b:\n",
        "      count += 1\n",
        "  return count  \n",
        "\n",
        "def total_docs():\n",
        "  return arquivo.text.count()"
      ],
      "execution_count": 0,
      "outputs": []
    },
    {
      "cell_type": "markdown",
      "metadata": {
        "id": "tCgm9o5aa-Mf",
        "colab_type": "text"
      },
      "source": [
        "##Calculando as top-10 palavras mais associadas a cada uma dessas 5 palavras de acordo com 4 métricas"
      ]
    },
    {
      "cell_type": "markdown",
      "metadata": {
        "id": "5FPWWINeY0-E",
        "colab_type": "text"
      },
      "source": [
        "## Primeira Métrica : (MIM) Mutual Information (Informação mútua) favorecendo termos de baixa frequência"
      ]
    },
    {
      "cell_type": "code",
      "metadata": {
        "id": "4TvNA3VkHzl3",
        "colab_type": "code",
        "colab": {}
      },
      "source": [
        "def mim(a, b):\n",
        "  n_a = len(index[a].keys())\n",
        "  n_b = len(index[b].keys())\n",
        "  n_ab = qdt_dois_documentos(a, b)\n",
        "  return (n_ab / (n_a * n_b))"
      ],
      "execution_count": 0,
      "outputs": []
    },
    {
      "cell_type": "markdown",
      "metadata": {
        "id": "FKJ-loXpb5Ol",
        "colab_type": "text"
      },
      "source": [
        "##Segunda Métrica : (EMIM) Expected Mutual Information Measure corrige esse problema"
      ]
    },
    {
      "cell_type": "code",
      "metadata": {
        "id": "79PrDEKZcZS5",
        "colab_type": "code",
        "colab": {}
      },
      "source": [
        "def emim(a, b):\n",
        "  n_a = len(index[a].keys())\n",
        "  n_b = len(index[b].keys())\n",
        "  n_ab = qdt_dois_documentos(a, b)\n",
        "  n = total_docs()\n",
        "  exp = (n * mim(a,b))\n",
        "  return (n_ab * np.log(exp) if exp != 0 else 0)\n",
        "  "
      ],
      "execution_count": 0,
      "outputs": []
    },
    {
      "cell_type": "markdown",
      "metadata": {
        "id": "gscXcHiwe3J6",
        "colab_type": "text"
      },
      "source": [
        "## Terceira Métrica : (χ 2 ) Pearson’s Chi-squared"
      ]
    },
    {
      "cell_type": "code",
      "metadata": {
        "id": "gkQuGopae89T",
        "colab_type": "code",
        "colab": {}
      },
      "source": [
        "def chi(a, b):\n",
        "  n_a = len(index[a].keys())\n",
        "  n_b = len(index[b].keys())\n",
        "  n_ab = qdt_dois_documentos(a, b)\n",
        "  n = total_docs()\n",
        "  return (n_ab - (1 / n) * n_a * n_b) ** 2 / (n_a * n_b)\n",
        "   \n",
        "  "
      ],
      "execution_count": 0,
      "outputs": []
    },
    {
      "cell_type": "markdown",
      "metadata": {
        "id": "3Eaub5sPfoPl",
        "colab_type": "text"
      },
      "source": [
        "##Quarta Métrica : (Dice)"
      ]
    },
    {
      "cell_type": "code",
      "metadata": {
        "id": "x-jpEPiKft3a",
        "colab_type": "code",
        "colab": {}
      },
      "source": [
        "def dice(a, b):\n",
        "  n_a = len(index[a].keys())\n",
        "  n_b = len(index[b].keys())\n",
        "  n_ab = qdt_dois_documentos(a, b)\n",
        "  return n_ab / (n_a + n_b)"
      ],
      "execution_count": 0,
      "outputs": []
    },
    {
      "cell_type": "markdown",
      "metadata": {
        "id": "J3DU7JNn6qk9",
        "colab_type": "text"
      },
      "source": [
        "## 5 Termos "
      ]
    },
    {
      "cell_type": "code",
      "metadata": {
        "id": "ObRSY_Wb6puM",
        "colab_type": "code",
        "colab": {}
      },
      "source": [
        "termos = [\"política\", \"presidente\", \"bolsonaro\", \"maduro\", \"onu\"]"
      ],
      "execution_count": 0,
      "outputs": []
    },
    {
      "cell_type": "code",
      "metadata": {
        "id": "GL2mN10SH2m-",
        "colab_type": "code",
        "colab": {}
      },
      "source": [
        "def metrica_total(term, metric):\n",
        "  pares = []\n",
        "  for palavra in index.keys():\n",
        "    if metric == 'mim':\n",
        "      result = mim(termo, palavra)\n",
        "    elif metric == 'emim':\n",
        "      result = emim(termo, palavra)\n",
        "    elif metric == 'chi':\n",
        "      result = chi(termo, palavra)\n",
        "    elif metric == 'dice':\n",
        "      result = dice(termo, palavra)\n",
        "    pares.append((palavra, result))   \n",
        "  # ordenção por valor de metrica\n",
        "  pares = sorted(pares, key = lambda x: x[1], reverse=True)\n",
        "  return pares\n",
        "\n",
        "\n",
        "termos_metricas = {}\n",
        "for termo in termos:\n",
        "  metricas = {}\n",
        "  metricas['mim'] = metrica_total(termo, 'mim')\n",
        "  metricas['emim'] = metrica_total(termo, 'emim')\n",
        "  metricas['chi'] = metrica_total(termo, 'chi')\n",
        "  metricas['dice'] = metrica_total(termo, 'dice')\n",
        "  termos_metricas[termo] = metricas\n"
      ],
      "execution_count": 0,
      "outputs": []
    },
    {
      "cell_type": "code",
      "metadata": {
        "id": "dzxHOjfBs1bM",
        "colab_type": "code",
        "colab": {}
      },
      "source": [
        "def tabela_metricas(termo):\n",
        "  mim = [k for k,_ in termos_metricas[termo]['mim']]\n",
        "  emim = [k for k,_ in termos_metricas[termo]['emim']]\n",
        "  chi = [k for k,_ in termos_metricas[termo]['chi']]\n",
        "  dice = [k for k,_ in termos_metricas[termo]['dice']]\n",
        "  tabela = {'MIM' : mim,\n",
        "       'EMIM' : emim ,\n",
        "       'X²' : chi    ,\n",
        "       'DICE': dice    }\n",
        "  df = pd.DataFrame(tabela)\n",
        "  return df"
      ],
      "execution_count": 0,
      "outputs": []
    },
    {
      "cell_type": "code",
      "metadata": {
        "id": "fl6VyeQus6eJ",
        "colab_type": "code",
        "outputId": "e68805ad-0672-4aca-ce4e-b8b369797d33",
        "colab": {
          "base_uri": "https://localhost:8080/",
          "height": 359
        }
      },
      "source": [
        "tabela_metricas(termos[0]).head(10)"
      ],
      "execution_count": 55,
      "outputs": [
        {
          "output_type": "execute_result",
          "data": {
            "text/html": [
              "<div>\n",
              "<style scoped>\n",
              "    .dataframe tbody tr th:only-of-type {\n",
              "        vertical-align: middle;\n",
              "    }\n",
              "\n",
              "    .dataframe tbody tr th {\n",
              "        vertical-align: top;\n",
              "    }\n",
              "\n",
              "    .dataframe thead th {\n",
              "        text-align: right;\n",
              "    }\n",
              "</style>\n",
              "<table border=\"1\" class=\"dataframe\">\n",
              "  <thead>\n",
              "    <tr style=\"text-align: right;\">\n",
              "      <th></th>\n",
              "      <th>MIM</th>\n",
              "      <th>EMIM</th>\n",
              "      <th>X²</th>\n",
              "      <th>DICE</th>\n",
              "    </tr>\n",
              "  </thead>\n",
              "  <tbody>\n",
              "    <tr>\n",
              "      <th>0</th>\n",
              "      <td>comemorarem</td>\n",
              "      <td>política</td>\n",
              "      <td>política</td>\n",
              "      <td>política</td>\n",
              "    </tr>\n",
              "    <tr>\n",
              "      <th>1</th>\n",
              "      <td>instaurou</td>\n",
              "      <td>político</td>\n",
              "      <td>político</td>\n",
              "      <td>país</td>\n",
              "    </tr>\n",
              "    <tr>\n",
              "      <th>2</th>\n",
              "      <td>citando</td>\n",
              "      <td>cada</td>\n",
              "      <td>desigualdade</td>\n",
              "      <td>outros</td>\n",
              "    </tr>\n",
              "    <tr>\n",
              "      <th>3</th>\n",
              "      <td>alusiva</td>\n",
              "      <td>país</td>\n",
              "      <td>cientista</td>\n",
              "      <td>vez</td>\n",
              "    </tr>\n",
              "    <tr>\n",
              "      <th>4</th>\n",
              "      <td>compatível</td>\n",
              "      <td>bolsonaro</td>\n",
              "      <td>eleições</td>\n",
              "      <td>cada</td>\n",
              "    </tr>\n",
              "    <tr>\n",
              "      <th>5</th>\n",
              "      <td>desobedece</td>\n",
              "      <td>nacional</td>\n",
              "      <td>força</td>\n",
              "      <td>governo</td>\n",
              "    </tr>\n",
              "    <tr>\n",
              "      <th>6</th>\n",
              "      <td>ignora</td>\n",
              "      <td>governo</td>\n",
              "      <td>problemas</td>\n",
              "      <td>menos</td>\n",
              "    </tr>\n",
              "    <tr>\n",
              "      <th>7</th>\n",
              "      <td>interamericana</td>\n",
              "      <td>estado</td>\n",
              "      <td>eleição</td>\n",
              "      <td>pode</td>\n",
              "    </tr>\n",
              "    <tr>\n",
              "      <th>8</th>\n",
              "      <td>condenou</td>\n",
              "      <td>outros</td>\n",
              "      <td>estar</td>\n",
              "      <td>desde</td>\n",
              "    </tr>\n",
              "    <tr>\n",
              "      <th>9</th>\n",
              "      <td>magistrada</td>\n",
              "      <td>estar</td>\n",
              "      <td>economia</td>\n",
              "      <td>parte</td>\n",
              "    </tr>\n",
              "  </tbody>\n",
              "</table>\n",
              "</div>"
            ],
            "text/plain": [
              "              MIM       EMIM            X²      DICE\n",
              "0     comemorarem   política      política  política\n",
              "1       instaurou   político      político      país\n",
              "2         citando       cada  desigualdade    outros\n",
              "3         alusiva       país     cientista       vez\n",
              "4      compatível  bolsonaro      eleições      cada\n",
              "5      desobedece   nacional         força   governo\n",
              "6          ignora    governo     problemas     menos\n",
              "7  interamericana     estado       eleição      pode\n",
              "8        condenou     outros         estar     desde\n",
              "9      magistrada      estar      economia     parte"
            ]
          },
          "metadata": {
            "tags": []
          },
          "execution_count": 55
        }
      ]
    },
    {
      "cell_type": "code",
      "metadata": {
        "id": "7khjMKIBCCyg",
        "colab_type": "code",
        "colab": {}
      },
      "source": [
        ""
      ],
      "execution_count": 0,
      "outputs": []
    },
    {
      "cell_type": "code",
      "metadata": {
        "id": "8fvFR2zl-TmV",
        "colab_type": "code",
        "outputId": "b50dc03d-367b-4013-d95b-1b70257e7d20",
        "colab": {
          "base_uri": "https://localhost:8080/",
          "height": 359
        }
      },
      "source": [
        "tabela_metricas(termos[1]).head(10)"
      ],
      "execution_count": 48,
      "outputs": [
        {
          "output_type": "execute_result",
          "data": {
            "text/html": [
              "<div>\n",
              "<style scoped>\n",
              "    .dataframe tbody tr th:only-of-type {\n",
              "        vertical-align: middle;\n",
              "    }\n",
              "\n",
              "    .dataframe tbody tr th {\n",
              "        vertical-align: top;\n",
              "    }\n",
              "\n",
              "    .dataframe thead th {\n",
              "        text-align: right;\n",
              "    }\n",
              "</style>\n",
              "<table border=\"1\" class=\"dataframe\">\n",
              "  <thead>\n",
              "    <tr style=\"text-align: right;\">\n",
              "      <th></th>\n",
              "      <th>MIM</th>\n",
              "      <th>EMIM</th>\n",
              "      <th>X²</th>\n",
              "      <th>DICE</th>\n",
              "    </tr>\n",
              "  </thead>\n",
              "  <tbody>\n",
              "    <tr>\n",
              "      <th>0</th>\n",
              "      <td>juíza</td>\n",
              "      <td>presidente</td>\n",
              "      <td>presidente</td>\n",
              "      <td>presidente</td>\n",
              "    </tr>\n",
              "    <tr>\n",
              "      <th>1</th>\n",
              "      <td>ivani</td>\n",
              "      <td>bolsonaro</td>\n",
              "      <td>bolsonaro</td>\n",
              "      <td>feira</td>\n",
              "    </tr>\n",
              "    <tr>\n",
              "      <th>2</th>\n",
              "      <td>comemorarem</td>\n",
              "      <td>ministro</td>\n",
              "      <td>ministro</td>\n",
              "      <td>governo</td>\n",
              "    </tr>\n",
              "    <tr>\n",
              "      <th>3</th>\n",
              "      <td>instaurou</td>\n",
              "      <td>governo</td>\n",
              "      <td>deputado</td>\n",
              "      <td>bolsonaro</td>\n",
              "    </tr>\n",
              "    <tr>\n",
              "      <th>4</th>\n",
              "      <td>presidente</td>\n",
              "      <td>feira</td>\n",
              "      <td>presidência</td>\n",
              "      <td>ainda</td>\n",
              "    </tr>\n",
              "    <tr>\n",
              "      <th>5</th>\n",
              "      <td>citando</td>\n",
              "      <td>político</td>\n",
              "      <td>governo</td>\n",
              "      <td>sobre</td>\n",
              "    </tr>\n",
              "    <tr>\n",
              "      <th>6</th>\n",
              "      <td>rememorar</td>\n",
              "      <td>segurança</td>\n",
              "      <td>político</td>\n",
              "      <td>país</td>\n",
              "    </tr>\n",
              "    <tr>\n",
              "      <th>7</th>\n",
              "      <td>alusiva</td>\n",
              "      <td>afirmou</td>\n",
              "      <td>câmara</td>\n",
              "      <td>ser</td>\n",
              "    </tr>\n",
              "    <tr>\n",
              "      <th>8</th>\n",
              "      <td>compatível</td>\n",
              "      <td>deputado</td>\n",
              "      <td>vice</td>\n",
              "      <td>ministro</td>\n",
              "    </tr>\n",
              "    <tr>\n",
              "      <th>9</th>\n",
              "      <td>promovido</td>\n",
              "      <td>câmara</td>\n",
              "      <td>segurança</td>\n",
              "      <td>ter</td>\n",
              "    </tr>\n",
              "  </tbody>\n",
              "</table>\n",
              "</div>"
            ],
            "text/plain": [
              "           MIM        EMIM           X²        DICE\n",
              "0        juíza  presidente   presidente  presidente\n",
              "1        ivani   bolsonaro    bolsonaro       feira\n",
              "2  comemorarem    ministro     ministro     governo\n",
              "3    instaurou     governo     deputado   bolsonaro\n",
              "4   presidente       feira  presidência       ainda\n",
              "5      citando    político      governo       sobre\n",
              "6    rememorar   segurança     político        país\n",
              "7      alusiva     afirmou       câmara         ser\n",
              "8   compatível    deputado         vice    ministro\n",
              "9    promovido      câmara    segurança         ter"
            ]
          },
          "metadata": {
            "tags": []
          },
          "execution_count": 48
        }
      ]
    },
    {
      "cell_type": "code",
      "metadata": {
        "id": "yzjzqWEQ-WoA",
        "colab_type": "code",
        "outputId": "14dc889d-ec2e-4316-a9d7-5ec5f664b2b5",
        "colab": {
          "base_uri": "https://localhost:8080/",
          "height": 359
        }
      },
      "source": [
        "tabela_metricas(termos[2]).head(10)"
      ],
      "execution_count": 49,
      "outputs": [
        {
          "output_type": "execute_result",
          "data": {
            "text/html": [
              "<div>\n",
              "<style scoped>\n",
              "    .dataframe tbody tr th:only-of-type {\n",
              "        vertical-align: middle;\n",
              "    }\n",
              "\n",
              "    .dataframe tbody tr th {\n",
              "        vertical-align: top;\n",
              "    }\n",
              "\n",
              "    .dataframe thead th {\n",
              "        text-align: right;\n",
              "    }\n",
              "</style>\n",
              "<table border=\"1\" class=\"dataframe\">\n",
              "  <thead>\n",
              "    <tr style=\"text-align: right;\">\n",
              "      <th></th>\n",
              "      <th>MIM</th>\n",
              "      <th>EMIM</th>\n",
              "      <th>X²</th>\n",
              "      <th>DICE</th>\n",
              "    </tr>\n",
              "  </thead>\n",
              "  <tbody>\n",
              "    <tr>\n",
              "      <th>0</th>\n",
              "      <td>juíza</td>\n",
              "      <td>bolsonaro</td>\n",
              "      <td>bolsonaro</td>\n",
              "      <td>bolsonaro</td>\n",
              "    </tr>\n",
              "    <tr>\n",
              "      <th>1</th>\n",
              "      <td>ivani</td>\n",
              "      <td>presidente</td>\n",
              "      <td>jair</td>\n",
              "      <td>presidente</td>\n",
              "    </tr>\n",
              "    <tr>\n",
              "      <th>2</th>\n",
              "      <td>comemorarem</td>\n",
              "      <td>brasil</td>\n",
              "      <td>psl</td>\n",
              "      <td>brasil</td>\n",
              "    </tr>\n",
              "    <tr>\n",
              "      <th>3</th>\n",
              "      <td>instaurou</td>\n",
              "      <td>governo</td>\n",
              "      <td>previdência</td>\n",
              "      <td>governo</td>\n",
              "    </tr>\n",
              "    <tr>\n",
              "      <th>4</th>\n",
              "      <td>jair</td>\n",
              "      <td>brasileiro</td>\n",
              "      <td>reforma</td>\n",
              "      <td>brasileiro</td>\n",
              "    </tr>\n",
              "    <tr>\n",
              "      <th>5</th>\n",
              "      <td>bolsonaro</td>\n",
              "      <td>ministro</td>\n",
              "      <td>planalto</td>\n",
              "      <td>ministro</td>\n",
              "    </tr>\n",
              "    <tr>\n",
              "      <th>6</th>\n",
              "      <td>citando</td>\n",
              "      <td>reforma</td>\n",
              "      <td>brasileiro</td>\n",
              "      <td>político</td>\n",
              "    </tr>\n",
              "    <tr>\n",
              "      <th>7</th>\n",
              "      <td>rememorar</td>\n",
              "      <td>político</td>\n",
              "      <td>brasil</td>\n",
              "      <td>brasileira</td>\n",
              "    </tr>\n",
              "    <tr>\n",
              "      <th>8</th>\n",
              "      <td>alusiva</td>\n",
              "      <td>psl</td>\n",
              "      <td>deputado</td>\n",
              "      <td>ainda</td>\n",
              "    </tr>\n",
              "    <tr>\n",
              "      <th>9</th>\n",
              "      <td>compatível</td>\n",
              "      <td>jair</td>\n",
              "      <td>presidente</td>\n",
              "      <td>paulo</td>\n",
              "    </tr>\n",
              "  </tbody>\n",
              "</table>\n",
              "</div>"
            ],
            "text/plain": [
              "           MIM        EMIM           X²        DICE\n",
              "0        juíza   bolsonaro    bolsonaro   bolsonaro\n",
              "1        ivani  presidente         jair  presidente\n",
              "2  comemorarem      brasil          psl      brasil\n",
              "3    instaurou     governo  previdência     governo\n",
              "4         jair  brasileiro      reforma  brasileiro\n",
              "5    bolsonaro    ministro     planalto    ministro\n",
              "6      citando     reforma   brasileiro    político\n",
              "7    rememorar    político       brasil  brasileira\n",
              "8      alusiva         psl     deputado       ainda\n",
              "9   compatível        jair   presidente       paulo"
            ]
          },
          "metadata": {
            "tags": []
          },
          "execution_count": 49
        }
      ]
    },
    {
      "cell_type": "code",
      "metadata": {
        "id": "RRYnmtkL-Y3f",
        "colab_type": "code",
        "outputId": "6b24e4be-5f34-4302-ab8f-ea28e2050fa3",
        "colab": {
          "base_uri": "https://localhost:8080/",
          "height": 359
        }
      },
      "source": [
        "tabela_metricas(termos[3]).head(10)"
      ],
      "execution_count": 50,
      "outputs": [
        {
          "output_type": "execute_result",
          "data": {
            "text/html": [
              "<div>\n",
              "<style scoped>\n",
              "    .dataframe tbody tr th:only-of-type {\n",
              "        vertical-align: middle;\n",
              "    }\n",
              "\n",
              "    .dataframe tbody tr th {\n",
              "        vertical-align: top;\n",
              "    }\n",
              "\n",
              "    .dataframe thead th {\n",
              "        text-align: right;\n",
              "    }\n",
              "</style>\n",
              "<table border=\"1\" class=\"dataframe\">\n",
              "  <thead>\n",
              "    <tr style=\"text-align: right;\">\n",
              "      <th></th>\n",
              "      <th>MIM</th>\n",
              "      <th>EMIM</th>\n",
              "      <th>X²</th>\n",
              "      <th>DICE</th>\n",
              "    </tr>\n",
              "  </thead>\n",
              "  <tbody>\n",
              "    <tr>\n",
              "      <th>0</th>\n",
              "      <td>nariño</td>\n",
              "      <td>maduro</td>\n",
              "      <td>maduro</td>\n",
              "      <td>maduro</td>\n",
              "    </tr>\n",
              "    <tr>\n",
              "      <th>1</th>\n",
              "      <td>abraçam</td>\n",
              "      <td>guaidó</td>\n",
              "      <td>guaidó</td>\n",
              "      <td>guaidó</td>\n",
              "    </tr>\n",
              "    <tr>\n",
              "      <th>2</th>\n",
              "      <td>arrepio</td>\n",
              "      <td>venezuela</td>\n",
              "      <td>chávez</td>\n",
              "      <td>chávez</td>\n",
              "    </tr>\n",
              "    <tr>\n",
              "      <th>3</th>\n",
              "      <td>emitidos</td>\n",
              "      <td>chávez</td>\n",
              "      <td>chavismo</td>\n",
              "      <td>chavismo</td>\n",
              "    </tr>\n",
              "    <tr>\n",
              "      <th>4</th>\n",
              "      <td>desejado</td>\n",
              "      <td>chavismo</td>\n",
              "      <td>venezuela</td>\n",
              "      <td>venezuela</td>\n",
              "    </tr>\n",
              "    <tr>\n",
              "      <th>5</th>\n",
              "      <td>desliza</td>\n",
              "      <td>hugo</td>\n",
              "      <td>interino</td>\n",
              "      <td>hugo</td>\n",
              "    </tr>\n",
              "    <tr>\n",
              "      <th>6</th>\n",
              "      <td>épico</td>\n",
              "      <td>interino</td>\n",
              "      <td>bolivariano</td>\n",
              "      <td>interino</td>\n",
              "    </tr>\n",
              "    <tr>\n",
              "      <th>7</th>\n",
              "      <td>contidas</td>\n",
              "      <td>assembleia</td>\n",
              "      <td>hugo</td>\n",
              "      <td>venezuelano</td>\n",
              "    </tr>\n",
              "    <tr>\n",
              "      <th>8</th>\n",
              "      <td>repleto</td>\n",
              "      <td>venezuelano</td>\n",
              "      <td>venezuelano</td>\n",
              "      <td>bolivariano</td>\n",
              "    </tr>\n",
              "    <tr>\n",
              "      <th>9</th>\n",
              "      <td>confidências</td>\n",
              "      <td>bolivariano</td>\n",
              "      <td>nicolás</td>\n",
              "      <td>assembleia</td>\n",
              "    </tr>\n",
              "  </tbody>\n",
              "</table>\n",
              "</div>"
            ],
            "text/plain": [
              "            MIM         EMIM           X²         DICE\n",
              "0        nariño       maduro       maduro       maduro\n",
              "1       abraçam       guaidó       guaidó       guaidó\n",
              "2       arrepio    venezuela       chávez       chávez\n",
              "3      emitidos       chávez     chavismo     chavismo\n",
              "4      desejado     chavismo    venezuela    venezuela\n",
              "5       desliza         hugo     interino         hugo\n",
              "6         épico     interino  bolivariano     interino\n",
              "7      contidas   assembleia         hugo  venezuelano\n",
              "8       repleto  venezuelano  venezuelano  bolivariano\n",
              "9  confidências  bolivariano      nicolás   assembleia"
            ]
          },
          "metadata": {
            "tags": []
          },
          "execution_count": 50
        }
      ]
    },
    {
      "cell_type": "code",
      "metadata": {
        "id": "AHv80Zdy-bIN",
        "colab_type": "code",
        "outputId": "84561c44-d54e-4441-b0c1-efa82af0c07e",
        "colab": {
          "base_uri": "https://localhost:8080/",
          "height": 359
        }
      },
      "source": [
        "tabela_metricas(termos[4]).head(10)"
      ],
      "execution_count": 51,
      "outputs": [
        {
          "output_type": "execute_result",
          "data": {
            "text/html": [
              "<div>\n",
              "<style scoped>\n",
              "    .dataframe tbody tr th:only-of-type {\n",
              "        vertical-align: middle;\n",
              "    }\n",
              "\n",
              "    .dataframe tbody tr th {\n",
              "        vertical-align: top;\n",
              "    }\n",
              "\n",
              "    .dataframe thead th {\n",
              "        text-align: right;\n",
              "    }\n",
              "</style>\n",
              "<table border=\"1\" class=\"dataframe\">\n",
              "  <thead>\n",
              "    <tr style=\"text-align: right;\">\n",
              "      <th></th>\n",
              "      <th>MIM</th>\n",
              "      <th>EMIM</th>\n",
              "      <th>X²</th>\n",
              "      <th>DICE</th>\n",
              "    </tr>\n",
              "  </thead>\n",
              "  <tbody>\n",
              "    <tr>\n",
              "      <th>0</th>\n",
              "      <td>enriquecer</td>\n",
              "      <td>onu</td>\n",
              "      <td>onu</td>\n",
              "      <td>onu</td>\n",
              "    </tr>\n",
              "    <tr>\n",
              "      <th>1</th>\n",
              "      <td>controversa</td>\n",
              "      <td>áfrica</td>\n",
              "      <td>áfrica</td>\n",
              "      <td>áfrica</td>\n",
              "    </tr>\n",
              "    <tr>\n",
              "      <th>2</th>\n",
              "      <td>fabian</td>\n",
              "      <td>resoluções</td>\n",
              "      <td>resoluções</td>\n",
              "      <td>resoluções</td>\n",
              "    </tr>\n",
              "    <tr>\n",
              "      <th>3</th>\n",
              "      <td>salvioli</td>\n",
              "      <td>internacional</td>\n",
              "      <td>aparecendo</td>\n",
              "      <td>muçulmanos</td>\n",
              "    </tr>\n",
              "    <tr>\n",
              "      <th>4</th>\n",
              "      <td>onu</td>\n",
              "      <td>organização</td>\n",
              "      <td>preceitos</td>\n",
              "      <td>árabes</td>\n",
              "    </tr>\n",
              "    <tr>\n",
              "      <th>5</th>\n",
              "      <td>reverbera</td>\n",
              "      <td>internacionais</td>\n",
              "      <td>guatemala</td>\n",
              "      <td>jerusalém</td>\n",
              "    </tr>\n",
              "    <tr>\n",
              "      <th>6</th>\n",
              "      <td>napolitano</td>\n",
              "      <td>muçulmanos</td>\n",
              "      <td>árabe</td>\n",
              "      <td>israelenses</td>\n",
              "    </tr>\n",
              "    <tr>\n",
              "      <th>7</th>\n",
              "      <td>distorce</td>\n",
              "      <td>árabes</td>\n",
              "      <td>checa</td>\n",
              "      <td>alimentos</td>\n",
              "    </tr>\n",
              "    <tr>\n",
              "      <th>8</th>\n",
              "      <td>factual</td>\n",
              "      <td>entretanto</td>\n",
              "      <td>valas</td>\n",
              "      <td>aparecendo</td>\n",
              "    </tr>\n",
              "    <tr>\n",
              "      <th>9</th>\n",
              "      <td>consensuais</td>\n",
              "      <td>acordos</td>\n",
              "      <td>nuances</td>\n",
              "      <td>seguindo</td>\n",
              "    </tr>\n",
              "  </tbody>\n",
              "</table>\n",
              "</div>"
            ],
            "text/plain": [
              "           MIM            EMIM          X²         DICE\n",
              "0   enriquecer             onu         onu          onu\n",
              "1  controversa          áfrica      áfrica       áfrica\n",
              "2       fabian      resoluções  resoluções   resoluções\n",
              "3     salvioli   internacional  aparecendo   muçulmanos\n",
              "4          onu     organização   preceitos       árabes\n",
              "5    reverbera  internacionais   guatemala    jerusalém\n",
              "6   napolitano      muçulmanos       árabe  israelenses\n",
              "7     distorce          árabes       checa    alimentos\n",
              "8      factual      entretanto       valas   aparecendo\n",
              "9  consensuais         acordos     nuances     seguindo"
            ]
          },
          "metadata": {
            "tags": []
          },
          "execution_count": 51
        }
      ]
    }
  ]
}