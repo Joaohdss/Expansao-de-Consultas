{
  "nbformat": 4,
  "nbformat_minor": 0,
  "metadata": {
    "colab": {
      "name": "Lab5.ipynb",
      "version": "0.3.2",
      "provenance": []
    },
    "kernelspec": {
      "name": "python3",
      "display_name": "Python 3"
    }
  },
  "cells": [
    {
      "cell_type": "markdown",
      "metadata": {
        "id": "Ea0Kzq5xuffZ",
        "colab_type": "text"
      },
      "source": [
        "# Parte 1 : Importando Bibliotecas"
      ]
    },
    {
      "cell_type": "code",
      "metadata": {
        "id": "qpkVyc83uT1q",
        "colab_type": "code",
        "colab": {
          "base_uri": "https://localhost:8080/",
          "height": 139
        },
        "outputId": "3f84a029-458c-47f0-a56b-1ef8ea4263e1"
      },
      "source": [
        "import pandas as pd\n",
        "import numpy as np\n",
        "import matplotlib.pyplot as plt\n",
        "import csv\n",
        "\n",
        "import re\n",
        "import nltk\n",
        "nltk.download('punkt')\n",
        "nltk.download('stopwords')\n",
        "nltk.download('averaged_perceptron_tagger')\n",
        "from nltk.tokenize import word_tokenize\n",
        "from nltk import tokenize \n",
        "from nltk.stem import RSLPStemmer\n",
        "from nltk.stem.porter import *\n",
        "import heapq\n",
        "import heapq as hp\n",
        "import time\n",
        "%matplotlib inline"
      ],
      "execution_count": 1,
      "outputs": [
        {
          "output_type": "stream",
          "text": [
            "[nltk_data] Downloading package punkt to /root/nltk_data...\n",
            "[nltk_data]   Unzipping tokenizers/punkt.zip.\n",
            "[nltk_data] Downloading package stopwords to /root/nltk_data...\n",
            "[nltk_data]   Unzipping corpora/stopwords.zip.\n",
            "[nltk_data] Downloading package averaged_perceptron_tagger to\n",
            "[nltk_data]     /root/nltk_data...\n",
            "[nltk_data]   Unzipping taggers/averaged_perceptron_tagger.zip.\n"
          ],
          "name": "stdout"
        }
      ]
    },
    {
      "cell_type": "markdown",
      "metadata": {
        "id": "eaOSzqn3ujpy",
        "colab_type": "text"
      },
      "source": [
        "#Lendo arquivo results csv\n",
        "Eliminando caracteres com tamanho 2 ou menor e deixando todos em caixa baixa salvando na variavel \"texto\""
      ]
    },
    {
      "cell_type": "code",
      "metadata": {
        "id": "xYuxfYYpumGY",
        "colab_type": "code",
        "colab": {
          "base_uri": "https://localhost:8080/",
          "height": 293
        },
        "outputId": "5eaa46a7-c01d-45f2-9e4d-380ae271be83"
      },
      "source": [
        "arquivo = pd.read_csv('results.csv')\n",
        "texto = arquivo['text']\n",
        "\n",
        "def eliminar_carac(text):\n",
        "  return re.sub(r'(\\W+|\\d+|\\b\\w{0,2}\\b)', ' ', text.lower())\n",
        "texto = texto.apply(eliminar_carac)\n",
        "\n",
        "texto = texto.apply(tokenize.word_tokenize, language='portuguese')\n",
        "\n",
        "arquivo.head()\n"
      ],
      "execution_count": 14,
      "outputs": [
        {
          "output_type": "execute_result",
          "data": {
            "text/html": [
              "<div>\n",
              "<style scoped>\n",
              "    .dataframe tbody tr th:only-of-type {\n",
              "        vertical-align: middle;\n",
              "    }\n",
              "\n",
              "    .dataframe tbody tr th {\n",
              "        vertical-align: top;\n",
              "    }\n",
              "\n",
              "    .dataframe thead th {\n",
              "        text-align: right;\n",
              "    }\n",
              "</style>\n",
              "<table border=\"1\" class=\"dataframe\">\n",
              "  <thead>\n",
              "    <tr style=\"text-align: right;\">\n",
              "      <th></th>\n",
              "      <th>title</th>\n",
              "      <th>subtitle</th>\n",
              "      <th>author</th>\n",
              "      <th>date</th>\n",
              "      <th>section</th>\n",
              "      <th>text</th>\n",
              "      <th>url</th>\n",
              "    </tr>\n",
              "  </thead>\n",
              "  <tbody>\n",
              "    <tr>\n",
              "      <th>0</th>\n",
              "      <td>“A sociedade foi Rubens Paiva  não os facínora...</td>\n",
              "      <td>A decisão da juíza que proíbe as Forças Armada...</td>\n",
              "      <td>F. M.</td>\n",
              "      <td>30/03/2019 00:11:08</td>\n",
              "      <td>Brasil</td>\n",
              "      <td>A juíza federal Ivani Silva da Luz  de Brasíli...</td>\n",
              "      <td>https://brasil.elpais.com/brasil/2019/03/26/po...</td>\n",
              "    </tr>\n",
              "    <tr>\n",
              "      <th>1</th>\n",
              "      <td>Justiça suspende decisão que proibia Forças Ar...</td>\n",
              "      <td>Liminar havia sido concedida na sexta-feira a ...</td>\n",
              "      <td>Marina Rossi</td>\n",
              "      <td>30/03/2019 16:17:59</td>\n",
              "      <td>Brasil</td>\n",
              "      <td>Menos de 24 horas depois de a juíza federal Iv...</td>\n",
              "      <td>https://brasil.elpais.com/brasil/2019/03/30/po...</td>\n",
              "    </tr>\n",
              "    <tr>\n",
              "      <th>2</th>\n",
              "      <td>Governo Bolsonaro prega “negacionismo históric...</td>\n",
              "      <td>Marcos Napolitano  professor da USP  diz que o...</td>\n",
              "      <td>Regiane Oliveira</td>\n",
              "      <td>04/04/2019 22:37:48</td>\n",
              "      <td>Brasil</td>\n",
              "      <td>Quando  determinou que  de 31 de março 1964  u...</td>\n",
              "      <td>https://brasil.elpais.com/brasil/2019/04/05/po...</td>\n",
              "    </tr>\n",
              "    <tr>\n",
              "      <th>3</th>\n",
              "      <td>Quando os pais de Gabo perceberam que tinham u...</td>\n",
              "      <td>Gustavo Tatis percorre o universo de García Má...</td>\n",
              "      <td>Jesús Ruiz Mantilla</td>\n",
              "      <td>07/03/2019 16:38:56</td>\n",
              "      <td>Cultura</td>\n",
              "      <td>Quando  era pequeno   Luisa e  Gabriel se preo...</td>\n",
              "      <td>https://brasil.elpais.com/brasil/2019/03/06/cu...</td>\n",
              "    </tr>\n",
              "    <tr>\n",
              "      <th>4</th>\n",
              "      <td>Rádios canadenses banem músicas de Michael Jac...</td>\n",
              "      <td>Quebec Cogeco Media toma a decisão após queixa...</td>\n",
              "      <td>Jaime Porras Ferreyra</td>\n",
              "      <td>07/03/2019 16:12:37</td>\n",
              "      <td>Cultura</td>\n",
              "      <td>Desde a manhã da última segunda-feira     e   ...</td>\n",
              "      <td>https://brasil.elpais.com/brasil/2019/03/06/cu...</td>\n",
              "    </tr>\n",
              "  </tbody>\n",
              "</table>\n",
              "</div>"
            ],
            "text/plain": [
              "                                               title  ...                                                url\n",
              "0  “A sociedade foi Rubens Paiva  não os facínora...  ...  https://brasil.elpais.com/brasil/2019/03/26/po...\n",
              "1  Justiça suspende decisão que proibia Forças Ar...  ...  https://brasil.elpais.com/brasil/2019/03/30/po...\n",
              "2  Governo Bolsonaro prega “negacionismo históric...  ...  https://brasil.elpais.com/brasil/2019/04/05/po...\n",
              "3  Quando os pais de Gabo perceberam que tinham u...  ...  https://brasil.elpais.com/brasil/2019/03/06/cu...\n",
              "4  Rádios canadenses banem músicas de Michael Jac...  ...  https://brasil.elpais.com/brasil/2019/03/06/cu...\n",
              "\n",
              "[5 rows x 7 columns]"
            ]
          },
          "metadata": {
            "tags": []
          },
          "execution_count": 14
        }
      ]
    },
    {
      "cell_type": "markdown",
      "metadata": {
        "id": "FhK9njT17A9R",
        "colab_type": "text"
      },
      "source": [
        "# Pegando só palavras por palavras do arquivo"
      ]
    },
    {
      "cell_type": "code",
      "metadata": {
        "id": "22MZXzxz7HB4",
        "colab_type": "code",
        "colab": {}
      },
      "source": [
        "stopwords = nltk.corpus.stopwords.words('portuguese')\n",
        "palavras = []\n",
        "for lista in texto:\n",
        "  for palavra in lista:\n",
        "    if(palavra not in stopwords):\n",
        "      palavras.append(palavra)\n",
        "      \n",
        "tabela_palavras = {\n",
        "    'palavra' : palavras\n",
        "}"
      ],
      "execution_count": 0,
      "outputs": []
    },
    {
      "cell_type": "markdown",
      "metadata": {
        "id": "6_2hV3Psu8XE",
        "colab_type": "text"
      },
      "source": [
        "\n",
        "# Lendo arquivo queries csv  com 5 consultas de um termo somente\n"
      ]
    },
    {
      "cell_type": "code",
      "metadata": {
        "id": "cn4HWP2gu-zi",
        "colab_type": "code",
        "colab": {
          "base_uri": "https://localhost:8080/",
          "height": 206
        },
        "outputId": "4e984b49-662e-45b4-fdb7-19d81b0e28e0"
      },
      "source": [
        "arquivo_queries = pd.read_csv('queries.csv')\n",
        "texto_queries = arquivo_queries\n",
        "\n",
        "texto_queries.head()"
      ],
      "execution_count": 5,
      "outputs": [
        {
          "output_type": "execute_result",
          "data": {
            "text/html": [
              "<div>\n",
              "<style scoped>\n",
              "    .dataframe tbody tr th:only-of-type {\n",
              "        vertical-align: middle;\n",
              "    }\n",
              "\n",
              "    .dataframe tbody tr th {\n",
              "        vertical-align: top;\n",
              "    }\n",
              "\n",
              "    .dataframe thead th {\n",
              "        text-align: right;\n",
              "    }\n",
              "</style>\n",
              "<table border=\"1\" class=\"dataframe\">\n",
              "  <thead>\n",
              "    <tr style=\"text-align: right;\">\n",
              "      <th></th>\n",
              "      <th>Unnamed: 0</th>\n",
              "      <th>query</th>\n",
              "      <th>documento_por_vez</th>\n",
              "      <th>termo_por_vez</th>\n",
              "      <th>comparando</th>\n",
              "    </tr>\n",
              "  </thead>\n",
              "  <tbody>\n",
              "    <tr>\n",
              "      <th>0</th>\n",
              "      <td>0</td>\n",
              "      <td>política</td>\n",
              "      <td>[(9, 69), (7, 235), (7, 166), (6, 204), (5, 17...</td>\n",
              "      <td>[(9, 69), (7, 235), (7, 166), (6, 204), (5, 17...</td>\n",
              "      <td>True</td>\n",
              "    </tr>\n",
              "    <tr>\n",
              "      <th>1</th>\n",
              "      <td>1</td>\n",
              "      <td>presidente</td>\n",
              "      <td>[(21, 63), (16, 166), (12, 151), (11, 216), (1...</td>\n",
              "      <td>[(21, 63), (16, 166), (12, 151), (11, 216), (1...</td>\n",
              "      <td>True</td>\n",
              "    </tr>\n",
              "    <tr>\n",
              "      <th>2</th>\n",
              "      <td>2</td>\n",
              "      <td>bolsonaro</td>\n",
              "      <td>[(46, 151), (37, 166), (35, 207), (26, 19), (1...</td>\n",
              "      <td>[(46, 151), (37, 166), (35, 207), (26, 19), (1...</td>\n",
              "      <td>True</td>\n",
              "    </tr>\n",
              "    <tr>\n",
              "      <th>3</th>\n",
              "      <td>3</td>\n",
              "      <td>maduro</td>\n",
              "      <td>[(11, 150), (7, 99), (6, 65), (5, 88), (4, 247...</td>\n",
              "      <td>[(11, 150), (7, 99), (6, 65), (5, 88), (4, 247...</td>\n",
              "      <td>True</td>\n",
              "    </tr>\n",
              "    <tr>\n",
              "      <th>4</th>\n",
              "      <td>4</td>\n",
              "      <td>onu</td>\n",
              "      <td>[(2, 101), (2, 64), (2, 29), (1, 249), (1, 185...</td>\n",
              "      <td>[(2, 101), (2, 64), (2, 29), (1, 249), (1, 185...</td>\n",
              "      <td>True</td>\n",
              "    </tr>\n",
              "  </tbody>\n",
              "</table>\n",
              "</div>"
            ],
            "text/plain": [
              "   Unnamed: 0  ... comparando\n",
              "0           0  ...       True\n",
              "1           1  ...       True\n",
              "2           2  ...       True\n",
              "3           3  ...       True\n",
              "4           4  ...       True\n",
              "\n",
              "[5 rows x 5 columns]"
            ]
          },
          "metadata": {
            "tags": []
          },
          "execution_count": 5
        }
      ]
    },
    {
      "cell_type": "markdown",
      "metadata": {
        "id": "pd8TXkkavH26",
        "colab_type": "text"
      },
      "source": [
        "# Calculando as top-10 palavras mais associadas a cada uma dessas 5 palavras de acordo com 4 métricas "
      ]
    },
    {
      "cell_type": "markdown",
      "metadata": {
        "id": "Yak4vOlk2x0T",
        "colab_type": "text"
      },
      "source": [
        "## Primeira Métrica : (MIM) Mutual Information (Informação mútua)  favorecendo termos de baixa frequência"
      ]
    },
    {
      "cell_type": "code",
      "metadata": {
        "id": "VTEwiUpiu7nU",
        "colab_type": "code",
        "colab": {}
      },
      "source": [
        ""
      ],
      "execution_count": 0,
      "outputs": []
    },
    {
      "cell_type": "markdown",
      "metadata": {
        "id": "Qwr5GnB25kXv",
        "colab_type": "text"
      },
      "source": [
        "## Segunda Métrica : (EMIM)  Expected Mutual Information Measure corrige esse problema"
      ]
    },
    {
      "cell_type": "code",
      "metadata": {
        "id": "JOMCdTRW6Kxt",
        "colab_type": "code",
        "colab": {}
      },
      "source": [
        ""
      ],
      "execution_count": 0,
      "outputs": []
    },
    {
      "cell_type": "markdown",
      "metadata": {
        "id": "Lz0bm5vt5yAM",
        "colab_type": "text"
      },
      "source": [
        "## Terceira Métrica :  (χ 2 ) Pearson’s Chi-squared "
      ]
    },
    {
      "cell_type": "code",
      "metadata": {
        "id": "h3Upzkvb6Lr0",
        "colab_type": "code",
        "colab": {}
      },
      "source": [
        ""
      ],
      "execution_count": 0,
      "outputs": []
    },
    {
      "cell_type": "markdown",
      "metadata": {
        "id": "zgKIDCd66Dtc",
        "colab_type": "text"
      },
      "source": [
        "##Quarta Métrica : (Dice)"
      ]
    },
    {
      "cell_type": "code",
      "metadata": {
        "id": "K7ip5MUL6MEu",
        "colab_type": "code",
        "colab": {}
      },
      "source": [
        ""
      ],
      "execution_count": 0,
      "outputs": []
    }
  ]
}